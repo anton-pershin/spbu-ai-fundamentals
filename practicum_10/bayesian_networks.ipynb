{
 "cells": [
  {
   "cell_type": "code",
   "execution_count": null,
   "metadata": {},
   "outputs": [],
   "source": [
    "import random\n",
    "import yaml\n",
    "import warnings\n",
    "from typing import Literal\n",
    "\n",
    "import matplotlib.pyplot as plt\n",
    "import numpy as np\n",
    "import pandas as pd\n",
    "from numpy.typing import NDArray\n",
    "\n",
    "from sklearn.naive_bayes import GaussianNB, CategoricalNB\n",
    "from sklearn.model_selection import train_test_split\n",
    "from sklearn.preprocessing import LabelEncoder, StandardScaler\n",
    "import category_encoders as ce\n",
    "\n",
    "TEST_SPLIT = 0.2\n",
    "SEED = 42\n",
    "\n",
    "random.seed(SEED)\n",
    "np.random.seed(SEED)"
   ]
  },
  {
   "cell_type": "markdown",
   "metadata": {},
   "source": [
    "## Наивный байесовский классификатор"
   ]
  },
  {
   "cell_type": "code",
   "execution_count": null,
   "metadata": {},
   "outputs": [],
   "source": [
    "with open(\"../config.yaml\", \"r\") as f:\n",
    "    cfg = yaml.safe_load(f)"
   ]
  },
  {
   "cell_type": "markdown",
   "metadata": {},
   "source": [
    "#### Подготовка WDBC"
   ]
  },
  {
   "cell_type": "code",
   "execution_count": null,
   "metadata": {},
   "outputs": [],
   "source": [
    "def load_wdbc(use_standard_scaling=True):\n",
    "    df_wdbc = pd.read_csv(cfg[\"classification\"][\"wdbc\"])\n",
    "    target_col_wdbc = \"diagnosis\"\n",
    "\n",
    "    df_wdbc = df_wdbc.drop([\"id\", \"Unnamed: 32\"], axis=1)\n",
    "    df_wdbc[target_col_wdbc] = df_wdbc[target_col_wdbc].replace({\"B\": 0, \"M\": 1})\n",
    "    feature_cols_wdbc = list(df_wdbc.columns)\n",
    "    feature_cols_wdbc.remove(target_col_wdbc)\n",
    "\n",
    "    y_wdbc = df_wdbc[[target_col_wdbc]]\n",
    "    X_wdbc = df_wdbc[feature_cols_wdbc]\n",
    "\n",
    "    X_wdbc_train, X_wdbc_test, y_wdbc_train, y_wdbc_test = train_test_split(\n",
    "        X_wdbc, y_wdbc, test_size=TEST_SPLIT, random_state=SEED\n",
    "    )\n",
    "\n",
    "    if use_standard_scaling:\n",
    "        standard_scaler = StandardScaler()\n",
    "        X_wdbc_train[feature_cols_wdbc] = standard_scaler.fit_transform(X_wdbc_train)\n",
    "        X_wdbc_test[feature_cols_wdbc] = standard_scaler.transform(X_wdbc_test)\n",
    "    return X_wdbc_train, X_wdbc_test, y_wdbc_train, y_wdbc_test"
   ]
  },
  {
   "cell_type": "code",
   "execution_count": null,
   "metadata": {},
   "outputs": [],
   "source": [
    "X_wdbc_train, X_wdbc_test, y_wdbc_train, y_wdbc_test = load_wdbc()"
   ]
  },
  {
   "cell_type": "markdown",
   "metadata": {},
   "source": [
    "#### Подготовка Mushrooms"
   ]
  },
  {
   "cell_type": "code",
   "execution_count": null,
   "metadata": {},
   "outputs": [],
   "source": [
    "def load_mushrooms(\n",
    "    use_standard_scaling=True,\n",
    "    encoding: Literal[\"frequency\", \"label\"] = \"frequency\"\n",
    "):\n",
    "    df_mushrooms = pd.read_csv(cfg[\"classification\"][\"mushrooms\"])\n",
    "    target_col_mushrooms = \"class\"\n",
    "\n",
    "    feature_cols_mushrooms = list(df_mushrooms.columns)\n",
    "    feature_cols_mushrooms.remove(target_col_mushrooms)\n",
    "\n",
    "    y_mushrooms = df_mushrooms[[target_col_mushrooms]]\n",
    "    X_mushrooms = df_mushrooms[feature_cols_mushrooms]\n",
    "\n",
    "    (\n",
    "        X_mushrooms_train,\n",
    "        X_mushrooms_test,\n",
    "        y_mushrooms_train,\n",
    "        y_mushrooms_test,\n",
    "    ) = train_test_split(X_mushrooms, y_mushrooms, test_size=TEST_SPLIT, random_state=SEED)\n",
    "\n",
    "    if encoding == \"frequency\":\n",
    "        count_encoder = ce.CountEncoder()\n",
    "        X_mushrooms_train = count_encoder.fit_transform(X_mushrooms_train)\n",
    "        X_mushrooms_test = count_encoder.transform(X_mushrooms_test)\n",
    "    elif encoding == \"label\":\n",
    "        label_encoder = ce.OrdinalEncoder()\n",
    "        X_mushrooms_train = label_encoder.fit_transform(X_mushrooms_train)\n",
    "        X_mushrooms_test = label_encoder.transform(X_mushrooms_test)\n",
    "    else:\n",
    "        raise NotImplementedError()\n",
    "\n",
    "    if use_standard_scaling:\n",
    "        standard_scaler = StandardScaler()\n",
    "        X_mushrooms_train[feature_cols_mushrooms] = standard_scaler.fit_transform(\n",
    "            X_mushrooms_train\n",
    "        )\n",
    "        X_mushrooms_test[feature_cols_mushrooms] = standard_scaler.transform(X_mushrooms_test)\n",
    "\n",
    "    label_encoder = LabelEncoder()\n",
    "    with warnings.catch_warnings():\n",
    "        warnings.simplefilter(\"ignore\")\n",
    "        y_mushrooms_train[target_col_mushrooms] = label_encoder.fit_transform(\n",
    "            y_mushrooms_train.values\n",
    "        )\n",
    "        y_mushrooms_test[target_col_mushrooms] = label_encoder.fit_transform(\n",
    "            y_mushrooms_test.values\n",
    "        )\n",
    "    return X_mushrooms_train, X_mushrooms_test, y_mushrooms_train, y_mushrooms_test"
   ]
  },
  {
   "cell_type": "code",
   "execution_count": null,
   "metadata": {},
   "outputs": [],
   "source": [
    "X_mushrooms_train, X_mushrooms_test, y_mushrooms_train, y_mushrooms_test = load_mushrooms()"
   ]
  },
  {
   "cell_type": "markdown",
   "metadata": {},
   "source": [
    "Обучим Гауссовский наивный байесовский классификатор на wdbc.\n",
    "\n",
    "Обратите внимание на вероятности, полученные через `predict_proba`. Наивный Байес оказался сильно увереннее в себе, чем, скажем, логическая регрессия, так что даже калибровка здесь не сможет нам помочь."
   ]
  },
  {
   "cell_type": "code",
   "execution_count": null,
   "metadata": {},
   "outputs": [],
   "source": [
    "nb_wdbc = GaussianNB()\n",
    "\n",
    "nb_wdbc.fit(X=X_wdbc_train, y=y_wdbc_train.values.reshape(-1))\n",
    "df_wdbc_results = pd.DataFrame({\n",
    "    'pred': nb_wdbc.predict(X_wdbc_test),\n",
    "    'pred_proba': nb_wdbc.predict_proba(X_wdbc_test)[:, 1],\n",
    "    'true': y_wdbc_test.values.reshape(-1),\n",
    "})\n",
    "df_wdbc_results.head(50)"
   ]
  },
  {
   "cell_type": "markdown",
   "metadata": {},
   "source": [
    "Точность наивного Байеса оказалась такой же, как у логистической регрессии, и выше, чем у KNN"
   ]
  },
  {
   "cell_type": "code",
   "execution_count": null,
   "metadata": {},
   "outputs": [],
   "source": [
    "nb_wdbc.score(X=X_wdbc_test, y=y_wdbc_test)"
   ]
  },
  {
   "cell_type": "markdown",
   "metadata": {},
   "source": [
    "Наконец, обучим модель для датасета с грибами. В данном случае точность получилась ниже KNN"
   ]
  },
  {
   "cell_type": "code",
   "execution_count": null,
   "metadata": {},
   "outputs": [],
   "source": [
    "nb_mushrooms = GaussianNB()\n",
    "nb_mushrooms.fit(X=X_mushrooms_train, y=y_mushrooms_train.values.reshape(-1))\n",
    "nb_mushrooms.score(X=X_mushrooms_test, y=y_mushrooms_test)"
   ]
  },
  {
   "cell_type": "markdown",
   "metadata": {},
   "source": [
    "Мы помним, что этот датасет состоит полностью из категориальных переменных. Возможно, использование `CategorialNB` улучшит ситуацию"
   ]
  },
  {
   "cell_type": "code",
   "execution_count": null,
   "metadata": {},
   "outputs": [],
   "source": [
    "X_mushrooms_train, X_mushrooms_test, y_mushrooms_train, y_mushrooms_test = \\\n",
    "    load_mushrooms(use_standard_scaling=False, encoding=\"label\")\n",
    "nb_mushrooms = CategoricalNB()\n",
    "nb_mushrooms.fit(X=X_mushrooms_train, y=y_mushrooms_train.values.reshape(-1))\n",
    "nb_mushrooms.score(X=X_mushrooms_test, y=y_mushrooms_test)"
   ]
  },
  {
   "cell_type": "code",
   "execution_count": null,
   "metadata": {},
   "outputs": [],
   "source": []
  }
 ],
 "metadata": {
  "interpreter": {
   "hash": "2b3714695f2307aafe7da52bf6e53e38bc5469a267534973be7d21c816457eaf"
  },
  "kernelspec": {
   "display_name": "Python 3.9.5 ('base')",
   "language": "python",
   "name": "python3"
  },
  "language_info": {
   "codemirror_mode": {
    "name": "ipython",
    "version": 3
   },
   "file_extension": ".py",
   "mimetype": "text/x-python",
   "name": "python",
   "nbconvert_exporter": "python",
   "pygments_lexer": "ipython3",
   "version": "3.9.5"
  },
  "orig_nbformat": 4
 },
 "nbformat": 4,
 "nbformat_minor": 2
}
